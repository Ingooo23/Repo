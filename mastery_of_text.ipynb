{
 "cells": [
  {
   "cell_type": "code",
   "execution_count": 24,
   "id": "07510058-1cec-47f0-bf91-6725cd8bb0d3",
   "metadata": {},
   "outputs": [
    {
     "name": "stdout",
     "output_type": "stream",
     "text": [
      "1. 99968\n",
      "2. 749560\n",
      "3. 113\n",
      "4. the\n"
     ]
    }
   ],
   "source": [
    "import urllib.request\n",
    "\n",
    "pg10 = urllib.request.urlopen(\"https://www.gutenberg.org/cache/epub/10/pg10.txt\")\n",
    "\n",
    "pg10_contents = pg10.read()\n",
    "\n",
    "lines = pg10_contents.splitlines()\n",
    "no_lines = len(lines)\n",
    "print(\"1. \" + str(no_lines))\n",
    "\n",
    "pg10_contents = str(pg10_contents)\n",
    "\n",
    "print(\"2. \" + str(len(pg10_contents.split())))\n",
    "\n",
    "print(\"3. \" + str((pg10_contents.count(\"apostle\")) + (pg10_contents.count(\"Apostle\")))) # clean punctuation and lowercase\n",
    "\n",
    "for i in words:\n",
    "    lw = i.lower()\n",
    "    if lw in word_counts:\n",
    "        word_counts[lw] += 1\n",
    "    else:\n",
    "        word_counts[lw] = 1\n",
    "\n",
    "most_common_word = \"\"\n",
    "most_common_count = 0\n",
    "for i in word_counts:\n",
    "    if word_counts[i] > most_common_count:\n",
    "        most_common_word = i\n",
    "        most_common_count = word_counts[i]\n",
    "\n",
    "print(\"4. \" + most_common_word)"
   ]
  },
  {
   "cell_type": "code",
   "execution_count": null,
   "id": "a32481d3-d998-4ff6-8c6e-7a5974cd8298",
   "metadata": {},
   "outputs": [],
   "source": []
  }
 ],
 "metadata": {
  "kernelspec": {
   "display_name": "Python [conda env:base] *",
   "language": "python",
   "name": "conda-base-py"
  },
  "language_info": {
   "codemirror_mode": {
    "name": "ipython",
    "version": 3
   },
   "file_extension": ".py",
   "mimetype": "text/x-python",
   "name": "python",
   "nbconvert_exporter": "python",
   "pygments_lexer": "ipython3",
   "version": "3.12.7"
  }
 },
 "nbformat": 4,
 "nbformat_minor": 5
}
